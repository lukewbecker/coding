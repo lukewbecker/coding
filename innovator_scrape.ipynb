{
 "cells": [
  {
   "cell_type": "code",
   "execution_count": 2,
   "id": "d161b97d-5f90-4ac8-9d6b-92d55b2cf82c",
   "metadata": {},
   "outputs": [
    {
     "ename": "ModuleNotFoundError",
     "evalue": "No module named 'webdriver_manager'",
     "output_type": "error",
     "traceback": [
      "\u001b[1;31m---------------------------------------------------------------------------\u001b[0m",
      "\u001b[1;31mModuleNotFoundError\u001b[0m                       Traceback (most recent call last)",
      "Input \u001b[1;32mIn [2]\u001b[0m, in \u001b[0;36m<cell line: 4>\u001b[1;34m()\u001b[0m\n\u001b[0;32m      1\u001b[0m \u001b[38;5;28;01mfrom\u001b[39;00m \u001b[38;5;21;01mselenium\u001b[39;00m \u001b[38;5;28;01mimport\u001b[39;00m webdriver\n\u001b[0;32m      2\u001b[0m \u001b[38;5;28;01mfrom\u001b[39;00m \u001b[38;5;21;01mselenium\u001b[39;00m\u001b[38;5;21;01m.\u001b[39;00m\u001b[38;5;21;01mwebdriver\u001b[39;00m\u001b[38;5;21;01m.\u001b[39;00m\u001b[38;5;21;01mchrome\u001b[39;00m\u001b[38;5;21;01m.\u001b[39;00m\u001b[38;5;21;01moptions\u001b[39;00m \u001b[38;5;28;01mimport\u001b[39;00m Options\n\u001b[1;32m----> 4\u001b[0m \u001b[38;5;28;01mfrom\u001b[39;00m \u001b[38;5;21;01mwebdriver_manager\u001b[39;00m\u001b[38;5;21;01m.\u001b[39;00m\u001b[38;5;21;01mchrome\u001b[39;00m \u001b[38;5;28;01mimport\u001b[39;00m ChromeDriverManager\n\u001b[0;32m      6\u001b[0m \u001b[38;5;28;01mfrom\u001b[39;00m \u001b[38;5;21;01mselenium\u001b[39;00m\u001b[38;5;21;01m.\u001b[39;00m\u001b[38;5;21;01mwebdriver\u001b[39;00m\u001b[38;5;21;01m.\u001b[39;00m\u001b[38;5;21;01msupport\u001b[39;00m\u001b[38;5;21;01m.\u001b[39;00m\u001b[38;5;21;01mui\u001b[39;00m \u001b[38;5;28;01mimport\u001b[39;00m Select\n\u001b[0;32m      8\u001b[0m \u001b[38;5;28;01mfrom\u001b[39;00m \u001b[38;5;21;01mselenium\u001b[39;00m\u001b[38;5;21;01m.\u001b[39;00m\u001b[38;5;21;01mwebdriver\u001b[39;00m\u001b[38;5;21;01m.\u001b[39;00m\u001b[38;5;21;01mcommon\u001b[39;00m\u001b[38;5;21;01m.\u001b[39;00m\u001b[38;5;21;01mby\u001b[39;00m \u001b[38;5;28;01mimport\u001b[39;00m By\n",
      "\u001b[1;31mModuleNotFoundError\u001b[0m: No module named 'webdriver_manager'"
     ]
    }
   ],
   "source": [
    "from selenium import webdriver\n",
    "from selenium.webdriver.chrome.options import Options\n",
    "\n",
    "from webdriver_manager.chrome import ChromeDriverManager\n",
    "\n",
    "from selenium.webdriver.support.ui import Select\n",
    "\n",
    "from selenium.webdriver.common.by import By\n",
    "from selenium.webdriver.support.ui import WebDriverWait\n",
    "from selenium.webdriver.support import expected_conditions as EC\n",
    "\n",
    "import time\n",
    "\n",
    "\n",
    "from selenium.common.exceptions import WebDriverException   \n",
    "\n",
    "def main():\n",
    "\n",
    "    options = Options()\n",
    "    options.headless = True\n",
    "\n",
    "    driver = webdriver.Chrome(ChromeDriverManager().install(), options=options)\n",
    "\n",
    "    driver.get(\"javascript:__doPostBack('ctl00$BodyPlaceHolder$DOSGrid1$ExportLinkButton','')\")\n",
    "    # driver.get(\"https://www.fangraphs.com/leaders.aspx?pos=all&stats=bat&lg=all&qual=0&type=0&season=2020&month=0&season1=2020&ind=0&team=0&rost=0&age=0&filter=&players=0&startdate=2020-01-01&enddate=2020-12-31\")\n",
    "    # Above in comments url of the 2nd website (working)\n",
    "\n",
    "    driver.implicitly_wait(10)\n",
    "\n",
    "    xpath = '//*[@id=\"ctl00_cphMainContent_lbGetData\"]'\n",
    "    # xpath = '//*[@id=\"LeaderBoard1_cmdCSV\"]'\n",
    "    # Above in comments xpath of the 2nd website button to download file (working)\n",
    "\n",
    "    button = WebDriverWait(driver, 20).until(EC.element_to_be_clickable((By.XPATH, xpath)))\n",
    "    print(button)\n",
    "    print(button.is_enabled())\n",
    "    print(button.is_displayed())\n",
    "    print(button.is_selected())\n",
    "    test = button.click()\n",
    "\n",
    "    driver.close()\n",
    "\n",
    "# <a id=\"BodyPlaceHolder_DOSGrid1_ExportLinkButton\" class=\"bodycopylink\" href=\"javascript:__doPostBack('ctl00$BodyPlaceHolder$DOSGrid1$ExportLinkButton','')\" style=\"font-size:13px;text-decoration:none;\">Download table data (CSV)</a>\n",
    "\n",
    "# //*[@id=\"BodyPlaceHolder_DOSGrid1_ExportLinkButton\"] This is the XPath\n",
    "\n",
    "if __name__ == '__main__':\n",
    "    main()"
   ]
  },
  {
   "cell_type": "code",
   "execution_count": 19,
   "id": "e5021de2-203d-4376-ba55-4622bf7a9cf6",
   "metadata": {
    "tags": []
   },
   "outputs": [
    {
     "name": "stderr",
     "output_type": "stream",
     "text": [
      "C:\\Users\\direc\\AppData\\Local\\Temp\\ipykernel_19652\\4262980063.py:13: DeprecationWarning: executable_path has been deprecated, please pass in a Service object\n",
      "  driver = webdriver.Chrome(chrome_options = options, executable_path=r'C:\\Users\\direc\\OneDrive\\Code\\GitHub\\chromedriver.exe')\n",
      "C:\\Users\\direc\\AppData\\Local\\Temp\\ipykernel_19652\\4262980063.py:13: DeprecationWarning: use options instead of chrome_options\n",
      "  driver = webdriver.Chrome(chrome_options = options, executable_path=r'C:\\Users\\direc\\OneDrive\\Code\\GitHub\\chromedriver.exe')\n"
     ]
    },
    {
     "ename": "ElementClickInterceptedException",
     "evalue": "Message: element click intercepted: Element is not clickable at point (1025, 2083)\n  (Session info: chrome=103.0.5060.134)\nStacktrace:\nBacktrace:\n\tOrdinal0 [0x00B55FD3+2187219]\n\tOrdinal0 [0x00AEE6D1+1763025]\n\tOrdinal0 [0x00A03E78+802424]\n\tOrdinal0 [0x00A3834B+1016651]\n\tOrdinal0 [0x00A36318+1008408]\n\tOrdinal0 [0x00A3401B+999451]\n\tOrdinal0 [0x00A32D69+994665]\n\tOrdinal0 [0x00A289B3+952755]\n\tOrdinal0 [0x00A4CB8C+1100684]\n\tOrdinal0 [0x00A28394+951188]\n\tOrdinal0 [0x00A4CDA4+1101220]\n\tOrdinal0 [0x00A5CFC2+1167298]\n\tOrdinal0 [0x00A4C9A6+1100198]\n\tOrdinal0 [0x00A26F80+946048]\n\tOrdinal0 [0x00A27E76+949878]\n\tGetHandleVerifier [0x00DF90C2+2721218]\n\tGetHandleVerifier [0x00DEAAF0+2662384]\n\tGetHandleVerifier [0x00BE137A+526458]\n\tGetHandleVerifier [0x00BE0416+522518]\n\tOrdinal0 [0x00AF4EAB+1789611]\n\tOrdinal0 [0x00AF97A8+1808296]\n\tOrdinal0 [0x00AF9895+1808533]\n\tOrdinal0 [0x00B026C1+1844929]\n\tBaseThreadInitThunk [0x75A16739+25]\n\tRtlGetFullPathName_UEx [0x77C790AF+1215]\n\tRtlGetFullPathName_UEx [0x77C7907D+1165]\n",
     "output_type": "error",
     "traceback": [
      "\u001b[1;31m---------------------------------------------------------------------------\u001b[0m",
      "\u001b[1;31mElementClickInterceptedException\u001b[0m          Traceback (most recent call last)",
      "Input \u001b[1;32mIn [19]\u001b[0m, in \u001b[0;36m<cell line: 19>\u001b[1;34m()\u001b[0m\n\u001b[0;32m     16\u001b[0m xpath \u001b[38;5;241m=\u001b[39m \u001b[38;5;124m'\u001b[39m\u001b[38;5;124m//*[@id=\u001b[39m\u001b[38;5;124m\"\u001b[39m\u001b[38;5;124mBodyPlaceHolder_DOSGrid1_ExportLinkButton\u001b[39m\u001b[38;5;124m\"\u001b[39m\u001b[38;5;124m]\u001b[39m\u001b[38;5;124m'\u001b[39m\n\u001b[0;32m     18\u001b[0m dropdown \u001b[38;5;241m=\u001b[39m driver\u001b[38;5;241m.\u001b[39mfind_element(By\u001b[38;5;241m.\u001b[39mXPATH, xpath)\n\u001b[1;32m---> 19\u001b[0m \u001b[43mdropdown\u001b[49m\u001b[38;5;241;43m.\u001b[39;49m\u001b[43mclick\u001b[49m\u001b[43m(\u001b[49m\u001b[43m)\u001b[49m\n",
      "File \u001b[1;32m~\\anaconda3\\envs\\ds\\lib\\site-packages\\selenium\\webdriver\\remote\\webelement.py:81\u001b[0m, in \u001b[0;36mWebElement.click\u001b[1;34m(self)\u001b[0m\n\u001b[0;32m     79\u001b[0m \u001b[38;5;28;01mdef\u001b[39;00m \u001b[38;5;21mclick\u001b[39m(\u001b[38;5;28mself\u001b[39m) \u001b[38;5;241m-\u001b[39m\u001b[38;5;241m>\u001b[39m \u001b[38;5;28;01mNone\u001b[39;00m:\n\u001b[0;32m     80\u001b[0m     \u001b[38;5;124;03m\"\"\"Clicks the element.\"\"\"\u001b[39;00m\n\u001b[1;32m---> 81\u001b[0m     \u001b[38;5;28;43mself\u001b[39;49m\u001b[38;5;241;43m.\u001b[39;49m\u001b[43m_execute\u001b[49m\u001b[43m(\u001b[49m\u001b[43mCommand\u001b[49m\u001b[38;5;241;43m.\u001b[39;49m\u001b[43mCLICK_ELEMENT\u001b[49m\u001b[43m)\u001b[49m\n",
      "File \u001b[1;32m~\\anaconda3\\envs\\ds\\lib\\site-packages\\selenium\\webdriver\\remote\\webelement.py:740\u001b[0m, in \u001b[0;36mWebElement._execute\u001b[1;34m(self, command, params)\u001b[0m\n\u001b[0;32m    738\u001b[0m     params \u001b[38;5;241m=\u001b[39m {}\n\u001b[0;32m    739\u001b[0m params[\u001b[38;5;124m'\u001b[39m\u001b[38;5;124mid\u001b[39m\u001b[38;5;124m'\u001b[39m] \u001b[38;5;241m=\u001b[39m \u001b[38;5;28mself\u001b[39m\u001b[38;5;241m.\u001b[39m_id\n\u001b[1;32m--> 740\u001b[0m \u001b[38;5;28;01mreturn\u001b[39;00m \u001b[38;5;28;43mself\u001b[39;49m\u001b[38;5;241;43m.\u001b[39;49m\u001b[43m_parent\u001b[49m\u001b[38;5;241;43m.\u001b[39;49m\u001b[43mexecute\u001b[49m\u001b[43m(\u001b[49m\u001b[43mcommand\u001b[49m\u001b[43m,\u001b[49m\u001b[43m \u001b[49m\u001b[43mparams\u001b[49m\u001b[43m)\u001b[49m\n",
      "File \u001b[1;32m~\\anaconda3\\envs\\ds\\lib\\site-packages\\selenium\\webdriver\\remote\\webdriver.py:430\u001b[0m, in \u001b[0;36mWebDriver.execute\u001b[1;34m(self, driver_command, params)\u001b[0m\n\u001b[0;32m    428\u001b[0m response \u001b[38;5;241m=\u001b[39m \u001b[38;5;28mself\u001b[39m\u001b[38;5;241m.\u001b[39mcommand_executor\u001b[38;5;241m.\u001b[39mexecute(driver_command, params)\n\u001b[0;32m    429\u001b[0m \u001b[38;5;28;01mif\u001b[39;00m response:\n\u001b[1;32m--> 430\u001b[0m     \u001b[38;5;28;43mself\u001b[39;49m\u001b[38;5;241;43m.\u001b[39;49m\u001b[43merror_handler\u001b[49m\u001b[38;5;241;43m.\u001b[39;49m\u001b[43mcheck_response\u001b[49m\u001b[43m(\u001b[49m\u001b[43mresponse\u001b[49m\u001b[43m)\u001b[49m\n\u001b[0;32m    431\u001b[0m     response[\u001b[38;5;124m'\u001b[39m\u001b[38;5;124mvalue\u001b[39m\u001b[38;5;124m'\u001b[39m] \u001b[38;5;241m=\u001b[39m \u001b[38;5;28mself\u001b[39m\u001b[38;5;241m.\u001b[39m_unwrap_value(\n\u001b[0;32m    432\u001b[0m         response\u001b[38;5;241m.\u001b[39mget(\u001b[38;5;124m'\u001b[39m\u001b[38;5;124mvalue\u001b[39m\u001b[38;5;124m'\u001b[39m, \u001b[38;5;28;01mNone\u001b[39;00m))\n\u001b[0;32m    433\u001b[0m     \u001b[38;5;28;01mreturn\u001b[39;00m response\n",
      "File \u001b[1;32m~\\anaconda3\\envs\\ds\\lib\\site-packages\\selenium\\webdriver\\remote\\errorhandler.py:247\u001b[0m, in \u001b[0;36mErrorHandler.check_response\u001b[1;34m(self, response)\u001b[0m\n\u001b[0;32m    245\u001b[0m         alert_text \u001b[38;5;241m=\u001b[39m value[\u001b[38;5;124m'\u001b[39m\u001b[38;5;124malert\u001b[39m\u001b[38;5;124m'\u001b[39m]\u001b[38;5;241m.\u001b[39mget(\u001b[38;5;124m'\u001b[39m\u001b[38;5;124mtext\u001b[39m\u001b[38;5;124m'\u001b[39m)\n\u001b[0;32m    246\u001b[0m     \u001b[38;5;28;01mraise\u001b[39;00m exception_class(message, screen, stacktrace, alert_text)  \u001b[38;5;66;03m# type: ignore[call-arg]  # mypy is not smart enough here\u001b[39;00m\n\u001b[1;32m--> 247\u001b[0m \u001b[38;5;28;01mraise\u001b[39;00m exception_class(message, screen, stacktrace)\n",
      "\u001b[1;31mElementClickInterceptedException\u001b[0m: Message: element click intercepted: Element is not clickable at point (1025, 2083)\n  (Session info: chrome=103.0.5060.134)\nStacktrace:\nBacktrace:\n\tOrdinal0 [0x00B55FD3+2187219]\n\tOrdinal0 [0x00AEE6D1+1763025]\n\tOrdinal0 [0x00A03E78+802424]\n\tOrdinal0 [0x00A3834B+1016651]\n\tOrdinal0 [0x00A36318+1008408]\n\tOrdinal0 [0x00A3401B+999451]\n\tOrdinal0 [0x00A32D69+994665]\n\tOrdinal0 [0x00A289B3+952755]\n\tOrdinal0 [0x00A4CB8C+1100684]\n\tOrdinal0 [0x00A28394+951188]\n\tOrdinal0 [0x00A4CDA4+1101220]\n\tOrdinal0 [0x00A5CFC2+1167298]\n\tOrdinal0 [0x00A4C9A6+1100198]\n\tOrdinal0 [0x00A26F80+946048]\n\tOrdinal0 [0x00A27E76+949878]\n\tGetHandleVerifier [0x00DF90C2+2721218]\n\tGetHandleVerifier [0x00DEAAF0+2662384]\n\tGetHandleVerifier [0x00BE137A+526458]\n\tGetHandleVerifier [0x00BE0416+522518]\n\tOrdinal0 [0x00AF4EAB+1789611]\n\tOrdinal0 [0x00AF97A8+1808296]\n\tOrdinal0 [0x00AF9895+1808533]\n\tOrdinal0 [0x00B026C1+1844929]\n\tBaseThreadInitThunk [0x75A16739+25]\n\tRtlGetFullPathName_UEx [0x77C790AF+1215]\n\tRtlGetFullPathName_UEx [0x77C7907D+1165]\n"
     ]
    }
   ],
   "source": [
    "from selenium import webdriver\n",
    "from selenium.webdriver.common.keys import Keys\n",
    "from selenium.webdriver.support.ui import Select\n",
    "from selenium.webdriver.support.ui import WebDriverWait\n",
    "from selenium.webdriver.chrome.options import Options\n",
    "from selenium.webdriver.chrome.service import Service\n",
    "from selenium.webdriver.common.by import By\n",
    "import time\n",
    "\n",
    "options = Options()\n",
    "options.binary_location = r\"C:\\Program Files\\Google\\Chrome\\Application\\chrome.exe\"\n",
    "\n",
    "driver = webdriver.Chrome(chrome_options = options, executable_path=r'C:\\Users\\direc\\OneDrive\\Code\\GitHub\\chromedriver.exe')\n",
    "# driver = webdriver.Chrome(executable_path = r'C:\\Users\\direc\\Downloads\\chromedriver_win32\\chromedriver')\n",
    "driver.get(\"https://www.innovatoretfs.com/define/etfs/\")\n",
    "xpath = '//*[@id=\"BodyPlaceHolder_DOSGrid1_ExportLinkButton\"]'\n",
    "named_class = 'bodycopylink'\n",
    "\n",
    "elem = driver.find_element(by=By.CLASS_NAME, value = named_class)\n",
    "\n",
    "elem.click()\n",
    "# time.sleep(5)\n",
    "\n",
    "# driver.execute_cdp_cmd(\"Page.setDownloadBehavior\", {\"behavior\": \"allow\", \"downloadPath\": r\"C:\\Users\\direc\\OneDrive\\Code\\GitHub\\coding\"})\n",
    "\n",
    "\n",
    "# //*[@id=\"BodyPlaceHolder_DOSGrid1_ExportLinkButton\"] Xpath\n",
    "# document.querySelector(\"#BodyPlaceHolder_DOSGrid1_ExportLinkButton\") JSpath\n",
    "#BodyPlaceHolder_DOSGrid1_ExportLinkButton\n",
    "                                      \n",
    "# for a in driver.find_elements_by_css_selector('a[href*=doPostBack]'):\n",
    "#     a.click()"
   ]
  },
  {
   "cell_type": "code",
   "execution_count": 8,
   "id": "64f2388c-e5d8-414f-834d-a9a17611dfd8",
   "metadata": {},
   "outputs": [],
   "source": [
    "import requests\n",
    "from bs4 import BeautifulSoup as bs"
   ]
  },
  {
   "cell_type": "code",
   "execution_count": null,
   "id": "0f5ef057-02db-43da-ae46-7855c1f50cae",
   "metadata": {},
   "outputs": [],
   "source": [
    "from selenium import webdriver\n",
    "from selenium.webdriver.support.ui import WebDriverWait\n",
    "from selenium.webdriver.support import expected_conditions as EC\n",
    "from selenium.webdriver.common.by import By\n",
    "from webdriver_manager.chrome import ChromeDriverManager\n",
    "\n",
    "driver = webdriver.Chrome(ChromeDriverManager().install())\n",
    "driver.maximize_window()\n",
    "driver.get(\"https://www.innovatoretfs.com/define/etfs/\")\n",
    "WebDriverWait(driver, 20).until(EC.visibility_of_element_located((By.XPATH, '//*[@id=\"BodyPlaceHolder_DOSGrid1_ExportLinkButton\"]'))).click()"
   ]
  },
  {
   "cell_type": "code",
   "execution_count": 11,
   "id": "50b01450-2ac6-4b38-b786-cb4aa559e2c8",
   "metadata": {},
   "outputs": [
    {
     "name": "stderr",
     "output_type": "stream",
     "text": [
      "C:\\Users\\direc\\AppData\\Local\\Temp\\ipykernel_10504\\1229962564.py:13: DeprecationWarning: executable_path has been deprecated, please pass in a Service object\n",
      "  driver = webdriver.Chrome(chrome_options = options, executable_path=r'C:\\Users\\direc\\OneDrive\\Code\\GitHub\\chromedriver.exe')\n",
      "C:\\Users\\direc\\AppData\\Local\\Temp\\ipykernel_10504\\1229962564.py:13: DeprecationWarning: use options instead of chrome_options\n",
      "  driver = webdriver.Chrome(chrome_options = options, executable_path=r'C:\\Users\\direc\\OneDrive\\Code\\GitHub\\chromedriver.exe')\n"
     ]
    },
    {
     "ename": "JavascriptException",
     "evalue": "Message: javascript error: document.getElementsByClass is not a function\n  (Session info: chrome=103.0.5060.134)\nStacktrace:\nBacktrace:\n\tOrdinal0 [0x00B55FD3+2187219]\n\tOrdinal0 [0x00AEE6D1+1763025]\n\tOrdinal0 [0x00A03E78+802424]\n\tOrdinal0 [0x00A06854+813140]\n\tOrdinal0 [0x00A06712+812818]\n\tOrdinal0 [0x00A0708A+815242]\n\tOrdinal0 [0x00A5D9F9+1169913]\n\tOrdinal0 [0x00A4CB8C+1100684]\n\tOrdinal0 [0x00A5CFC2+1167298]\n\tOrdinal0 [0x00A4C9A6+1100198]\n\tOrdinal0 [0x00A26F80+946048]\n\tOrdinal0 [0x00A27E76+949878]\n\tGetHandleVerifier [0x00DF90C2+2721218]\n\tGetHandleVerifier [0x00DEAAF0+2662384]\n\tGetHandleVerifier [0x00BE137A+526458]\n\tGetHandleVerifier [0x00BE0416+522518]\n\tOrdinal0 [0x00AF4EAB+1789611]\n\tOrdinal0 [0x00AF97A8+1808296]\n\tOrdinal0 [0x00AF9895+1808533]\n\tOrdinal0 [0x00B026C1+1844929]\n\tBaseThreadInitThunk [0x75A16739+25]\n\tRtlGetFullPathName_UEx [0x77C790AF+1215]\n\tRtlGetFullPathName_UEx [0x77C7907D+1165]\n",
     "output_type": "error",
     "traceback": [
      "\u001b[1;31m---------------------------------------------------------------------------\u001b[0m",
      "\u001b[1;31mJavascriptException\u001b[0m                       Traceback (most recent call last)",
      "Input \u001b[1;32mIn [11]\u001b[0m, in \u001b[0;36m<cell line: 22>\u001b[1;34m()\u001b[0m\n\u001b[0;32m     20\u001b[0m time\u001b[38;5;241m.\u001b[39msleep(\u001b[38;5;241m1\u001b[39m)\n\u001b[0;32m     21\u001b[0m driver\u001b[38;5;241m.\u001b[39mfind_element(By\u001b[38;5;241m.\u001b[39mXPATH, \u001b[38;5;124m'\u001b[39m\u001b[38;5;124m//*[@id=\u001b[39m\u001b[38;5;124m\"\u001b[39m\u001b[38;5;124mBodyPlaceHolder_DOSGrid1_ExportLinkButton\u001b[39m\u001b[38;5;124m\"\u001b[39m\u001b[38;5;124m]\u001b[39m\u001b[38;5;124m'\u001b[39m)\n\u001b[1;32m---> 22\u001b[0m \u001b[43mdriver\u001b[49m\u001b[38;5;241;43m.\u001b[39;49m\u001b[43mexecute_script\u001b[49m\u001b[43m(\u001b[49m\u001b[38;5;124;43m\"\u001b[39;49m\u001b[38;5;124;43mdocument.getElementsByClass(\u001b[39;49m\u001b[38;5;124;43m'\u001b[39;49m\u001b[38;5;124;43mbodycopylink\u001b[39;49m\u001b[38;5;124;43m'\u001b[39;49m\u001b[38;5;124;43m)[0].value\u001b[39;49m\u001b[38;5;124;43m\"\u001b[39;49m\u001b[43m)\u001b[49m\n",
      "File \u001b[1;32m~\\anaconda3\\envs\\ds\\lib\\site-packages\\selenium\\webdriver\\remote\\webdriver.py:884\u001b[0m, in \u001b[0;36mWebDriver.execute_script\u001b[1;34m(self, script, *args)\u001b[0m\n\u001b[0;32m    881\u001b[0m converted_args \u001b[38;5;241m=\u001b[39m \u001b[38;5;28mlist\u001b[39m(args)\n\u001b[0;32m    882\u001b[0m command \u001b[38;5;241m=\u001b[39m Command\u001b[38;5;241m.\u001b[39mW3C_EXECUTE_SCRIPT\n\u001b[1;32m--> 884\u001b[0m \u001b[38;5;28;01mreturn\u001b[39;00m \u001b[38;5;28;43mself\u001b[39;49m\u001b[38;5;241;43m.\u001b[39;49m\u001b[43mexecute\u001b[49m\u001b[43m(\u001b[49m\u001b[43mcommand\u001b[49m\u001b[43m,\u001b[49m\u001b[43m \u001b[49m\u001b[43m{\u001b[49m\n\u001b[0;32m    885\u001b[0m \u001b[43m    \u001b[49m\u001b[38;5;124;43m'\u001b[39;49m\u001b[38;5;124;43mscript\u001b[39;49m\u001b[38;5;124;43m'\u001b[39;49m\u001b[43m:\u001b[49m\u001b[43m \u001b[49m\u001b[43mscript\u001b[49m\u001b[43m,\u001b[49m\n\u001b[0;32m    886\u001b[0m \u001b[43m    \u001b[49m\u001b[38;5;124;43m'\u001b[39;49m\u001b[38;5;124;43margs\u001b[39;49m\u001b[38;5;124;43m'\u001b[39;49m\u001b[43m:\u001b[49m\u001b[43m \u001b[49m\u001b[43mconverted_args\u001b[49m\u001b[43m}\u001b[49m\u001b[43m)\u001b[49m[\u001b[38;5;124m'\u001b[39m\u001b[38;5;124mvalue\u001b[39m\u001b[38;5;124m'\u001b[39m]\n",
      "File \u001b[1;32m~\\anaconda3\\envs\\ds\\lib\\site-packages\\selenium\\webdriver\\remote\\webdriver.py:430\u001b[0m, in \u001b[0;36mWebDriver.execute\u001b[1;34m(self, driver_command, params)\u001b[0m\n\u001b[0;32m    428\u001b[0m response \u001b[38;5;241m=\u001b[39m \u001b[38;5;28mself\u001b[39m\u001b[38;5;241m.\u001b[39mcommand_executor\u001b[38;5;241m.\u001b[39mexecute(driver_command, params)\n\u001b[0;32m    429\u001b[0m \u001b[38;5;28;01mif\u001b[39;00m response:\n\u001b[1;32m--> 430\u001b[0m     \u001b[38;5;28;43mself\u001b[39;49m\u001b[38;5;241;43m.\u001b[39;49m\u001b[43merror_handler\u001b[49m\u001b[38;5;241;43m.\u001b[39;49m\u001b[43mcheck_response\u001b[49m\u001b[43m(\u001b[49m\u001b[43mresponse\u001b[49m\u001b[43m)\u001b[49m\n\u001b[0;32m    431\u001b[0m     response[\u001b[38;5;124m'\u001b[39m\u001b[38;5;124mvalue\u001b[39m\u001b[38;5;124m'\u001b[39m] \u001b[38;5;241m=\u001b[39m \u001b[38;5;28mself\u001b[39m\u001b[38;5;241m.\u001b[39m_unwrap_value(\n\u001b[0;32m    432\u001b[0m         response\u001b[38;5;241m.\u001b[39mget(\u001b[38;5;124m'\u001b[39m\u001b[38;5;124mvalue\u001b[39m\u001b[38;5;124m'\u001b[39m, \u001b[38;5;28;01mNone\u001b[39;00m))\n\u001b[0;32m    433\u001b[0m     \u001b[38;5;28;01mreturn\u001b[39;00m response\n",
      "File \u001b[1;32m~\\anaconda3\\envs\\ds\\lib\\site-packages\\selenium\\webdriver\\remote\\errorhandler.py:247\u001b[0m, in \u001b[0;36mErrorHandler.check_response\u001b[1;34m(self, response)\u001b[0m\n\u001b[0;32m    245\u001b[0m         alert_text \u001b[38;5;241m=\u001b[39m value[\u001b[38;5;124m'\u001b[39m\u001b[38;5;124malert\u001b[39m\u001b[38;5;124m'\u001b[39m]\u001b[38;5;241m.\u001b[39mget(\u001b[38;5;124m'\u001b[39m\u001b[38;5;124mtext\u001b[39m\u001b[38;5;124m'\u001b[39m)\n\u001b[0;32m    246\u001b[0m     \u001b[38;5;28;01mraise\u001b[39;00m exception_class(message, screen, stacktrace, alert_text)  \u001b[38;5;66;03m# type: ignore[call-arg]  # mypy is not smart enough here\u001b[39;00m\n\u001b[1;32m--> 247\u001b[0m \u001b[38;5;28;01mraise\u001b[39;00m exception_class(message, screen, stacktrace)\n",
      "\u001b[1;31mJavascriptException\u001b[0m: Message: javascript error: document.getElementsByClass is not a function\n  (Session info: chrome=103.0.5060.134)\nStacktrace:\nBacktrace:\n\tOrdinal0 [0x00B55FD3+2187219]\n\tOrdinal0 [0x00AEE6D1+1763025]\n\tOrdinal0 [0x00A03E78+802424]\n\tOrdinal0 [0x00A06854+813140]\n\tOrdinal0 [0x00A06712+812818]\n\tOrdinal0 [0x00A0708A+815242]\n\tOrdinal0 [0x00A5D9F9+1169913]\n\tOrdinal0 [0x00A4CB8C+1100684]\n\tOrdinal0 [0x00A5CFC2+1167298]\n\tOrdinal0 [0x00A4C9A6+1100198]\n\tOrdinal0 [0x00A26F80+946048]\n\tOrdinal0 [0x00A27E76+949878]\n\tGetHandleVerifier [0x00DF90C2+2721218]\n\tGetHandleVerifier [0x00DEAAF0+2662384]\n\tGetHandleVerifier [0x00BE137A+526458]\n\tGetHandleVerifier [0x00BE0416+522518]\n\tOrdinal0 [0x00AF4EAB+1789611]\n\tOrdinal0 [0x00AF97A8+1808296]\n\tOrdinal0 [0x00AF9895+1808533]\n\tOrdinal0 [0x00B026C1+1844929]\n\tBaseThreadInitThunk [0x75A16739+25]\n\tRtlGetFullPathName_UEx [0x77C790AF+1215]\n\tRtlGetFullPathName_UEx [0x77C7907D+1165]\n"
     ]
    }
   ],
   "source": [
    "from selenium import webdriver\n",
    "from selenium.webdriver.common.keys import Keys\n",
    "from selenium.webdriver.support.ui import Select\n",
    "from selenium.webdriver.support.ui import WebDriverWait\n",
    "from selenium.webdriver.chrome.options import Options\n",
    "from selenium.webdriver.chrome.service import Service\n",
    "from selenium.webdriver.common.by import By\n",
    "import time\n",
    "\n",
    "options = Options()\n",
    "options.binary_location = r\"C:\\Program Files\\Google\\Chrome\\Application\\chrome.exe\"\n",
    "\n",
    "driver = webdriver.Chrome(chrome_options = options, executable_path=r'C:\\Users\\direc\\OneDrive\\Code\\GitHub\\chromedriver.exe')\n",
    "driver.maximize_window()\n",
    "driver.get(\"https://www.innovatoretfs.com/define/etfs/\")\n",
    "\n",
    "WebDriverWait(driver, 30).until(EC.visibility_of_element_located((By.XPATH, '//*[@id=\"BodyPlaceHolder_DOSGrid1_ExportLinkButton\"]')))\n",
    "# WebDriverWait(driver, 30).until(EC.visibility_of_element_located((By.CLASS_NAME, \"bodycopylink\")))\n",
    "# elem = driver.switch_to.active_element\n",
    "time.sleep(1)\n",
    "driver.find_element(By.XPATH, '//*[@id=\"BodyPlaceHolder_DOSGrid1_ExportLinkButton\"]')\n",
    "driver.execute_script(\"document.getElementsByClass('bodycopylink')[0].value\")\n",
    "# for link in candidate_affidavit_links:\n",
    "#     link.click()\n",
    "#     time.sleep(1)"
   ]
  },
  {
   "cell_type": "code",
   "execution_count": null,
   "id": "6fabfb04-1f9b-46fa-aee5-d788406dd003",
   "metadata": {},
   "outputs": [],
   "source": []
  }
 ],
 "metadata": {
  "kernelspec": {
   "display_name": "Python 3 (ipykernel)",
   "language": "python",
   "name": "python3"
  },
  "language_info": {
   "codemirror_mode": {
    "name": "ipython",
    "version": 3
   },
   "file_extension": ".py",
   "mimetype": "text/x-python",
   "name": "python",
   "nbconvert_exporter": "python",
   "pygments_lexer": "ipython3",
   "version": "3.9.13"
  }
 },
 "nbformat": 4,
 "nbformat_minor": 5
}
