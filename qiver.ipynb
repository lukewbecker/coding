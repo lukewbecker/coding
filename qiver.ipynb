{
 "cells": [
  {
   "cell_type": "markdown",
   "id": "9d36c83f-d967-4018-b86d-1c11e61e20be",
   "metadata": {},
   "source": [
    "# Quiver Quantitative API"
   ]
  },
  {
   "cell_type": "code",
   "execution_count": 1,
   "id": "715efb17-1de6-42f1-9f53-fc2b12ebad27",
   "metadata": {},
   "outputs": [
    {
     "name": "stdout",
     "output_type": "stream",
     "text": [
      "b'\\n<!doctype html>\\n<html lang=\"en\">\\n<head>\\n  <title>Server Error (500)</title>\\n</head>\\n<body>\\n  <h1>Server Error (500)</h1><p></p>\\n<script>(function(){var js = \"window[\\'__CF$cv$params\\']={r:\\'75408b3fabed29cc\\',m:\\'c6VKu2RCQtvKnAodJzhZZdF6P5OgskKoIM6h2RkOdlw-1664746275-0-Ab7tRfUAbqhKygOn7ZhATu4RdlnEJrQT5HwNV6lTfoL4KaK9mCFMpENapMhWpbdPrdFT2ycIDUxS9O4AvPOKW3zBoN1Jt+rFebYA2v8vsuJOw2Eg3kFbdol62O3R4g0TkXSa/bhF5XCK+q7rkVnq2MM=\\',s:[0xaaca5abb33,0x1f04d8df03],u:\\'/cdn-cgi/challenge-platform/h/b\\'};var now=Date.now()/1000,offset=14400,ts=\\'\\'+(Math.floor(now)-Math.floor(now%offset)),_cpo=document.createElement(\\'script\\');_cpo.nonce=\\'\\',_cpo.src=\\'/cdn-cgi/challenge-platform/h/b/scripts/alpha/invisible.js?ts=\\'+ts,document.getElementsByTagName(\\'head\\')[0].appendChild(_cpo);\";var _0xh = document.createElement(\\'iframe\\');_0xh.height = 1;_0xh.width = 1;_0xh.style.position = \\'absolute\\';_0xh.style.top = 0;_0xh.style.left = 0;_0xh.style.border = \\'none\\';_0xh.style.visibility = \\'hidden\\';document.body.appendChild(_0xh);function handler() {var _0xi = _0xh.contentDocument || _0xh.contentWindow.document;if (_0xi) {var _0xj = _0xi.createElement(\\'script\\');_0xj.nonce = \\'\\';_0xj.innerHTML = js;_0xi.getElementsByTagName(\\'head\\')[0].appendChild(_0xj);}}if (document.readyState !== \\'loading\\') {handler();} else if (window.addEventListener) {document.addEventListener(\\'DOMContentLoaded\\', handler);} else {var prev = document.onreadystatechange || function () {};document.onreadystatechange = function (e) {prev(e);if (document.readyState !== \\'loading\\') {document.onreadystatechange = prev;handler();}};}})();</script></body>\\n</html>\\n'\n"
     ]
    }
   ],
   "source": [
    "import requests\n",
    "url = \"https://api.quiverquant.com/beta/live/housetrading\"\n",
    "headers = {'accept': 'application/json',\n",
    "'X-CSRFToken': 'TyTJwjuEC7VV7mOqZ622haRaaUr0x0Ng4nrwSRFKQs7vdoBcJlK9qjAS69ghzhFu',\n",
    "'Authorization': 'Token {Your Authorization Token}'}\n",
    "r = requests.get(url, headers=headers)\n",
    "print(r.content)"
   ]
  },
  {
   "cell_type": "code",
   "execution_count": 2,
   "id": "10849e90-3adf-4b37-8491-8b646bb9553b",
   "metadata": {},
   "outputs": [],
   "source": [
    "import quiverquant"
   ]
  },
  {
   "cell_type": "code",
   "execution_count": 9,
   "id": "9899e923-2201-445a-8536-9ce62981a3e7",
   "metadata": {},
   "outputs": [],
   "source": [
    "from env import qiver_quant_key as qiver"
   ]
  },
  {
   "cell_type": "code",
   "execution_count": 7,
   "id": "3ea6ec77-e646-4ed9-a1c7-d561815710d7",
   "metadata": {},
   "outputs": [],
   "source": [
    "from env import my_fred_key"
   ]
  },
  {
   "cell_type": "code",
   "execution_count": null,
   "id": "f54bfff6-0dac-4c6b-99d2-826cf9ab87d4",
   "metadata": {},
   "outputs": [],
   "source": []
  },
  {
   "cell_type": "code",
   "execution_count": null,
   "id": "551c10ac-7081-4438-934f-4466294aee82",
   "metadata": {},
   "outputs": [],
   "source": []
  }
 ],
 "metadata": {
  "kernelspec": {
   "display_name": "Python 3 (ipykernel)",
   "language": "python",
   "name": "python3"
  },
  "language_info": {
   "codemirror_mode": {
    "name": "ipython",
    "version": 3
   },
   "file_extension": ".py",
   "mimetype": "text/x-python",
   "name": "python",
   "nbconvert_exporter": "python",
   "pygments_lexer": "ipython3",
   "version": "3.9.13"
  }
 },
 "nbformat": 4,
 "nbformat_minor": 5
}
