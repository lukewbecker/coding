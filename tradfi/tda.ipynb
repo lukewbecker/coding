{
 "cells": [
  {
   "cell_type": "code",
   "execution_count": 2,
   "id": "59892fb0-3247-49be-ac4a-c0ac4c5ff7ca",
   "metadata": {},
   "outputs": [],
   "source": [
    "import tda"
   ]
  },
  {
   "cell_type": "code",
   "execution_count": 3,
   "id": "2f235eab-e27f-49c5-a22a-da2cfb9d07ed",
   "metadata": {},
   "outputs": [],
   "source": [
    "import pandas as pd\n",
    "import numpy as np"
   ]
  },
  {
   "cell_type": "code",
   "execution_count": null,
   "id": "1a1803e5-247a-472c-b8d3-07356b479dfe",
   "metadata": {},
   "outputs": [],
   "source": []
  }
 ],
 "metadata": {
  "kernelspec": {
   "display_name": "Python 3 (ipykernel)",
   "language": "python",
   "name": "python3"
  },
  "language_info": {
   "codemirror_mode": {
    "name": "ipython",
    "version": 3
   },
   "file_extension": ".py",
   "mimetype": "text/x-python",
   "name": "python",
   "nbconvert_exporter": "python",
   "pygments_lexer": "ipython3",
   "version": "3.9.7"
  }
 },
 "nbformat": 4,
 "nbformat_minor": 5
}
