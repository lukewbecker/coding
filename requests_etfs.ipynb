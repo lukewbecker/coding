{
 "cells": [
  {
   "cell_type": "markdown",
   "id": "8c3e49d3-c2e7-4c7e-af5a-f2ff1066e627",
   "metadata": {},
   "source": [
    "## Getting First Trust and Innovator Buffer ETF Data"
   ]
  },
  {
   "cell_type": "code",
   "execution_count": 1,
   "id": "f376e2b0-4f14-4093-ab0e-a375d1ee7ba4",
   "metadata": {},
   "outputs": [],
   "source": [
    "import requests #requesting URLs\n",
    "import urllib.request #requesting URLs\n",
    "import time #setting the speed at which the requests run\n",
    "import re #regexp string manipulation\n",
    "import pandas as pd #for simplifying data operations (e.g. creating dataframe objects)\n",
    "import matplotlib.pyplot as plt #for plotting the scraped data\n",
    "from bs4 import BeautifulSoup #for web-scraping operations"
   ]
  },
  {
   "cell_type": "code",
   "execution_count": null,
   "id": "48d4cdef-a993-4dac-afa8-583c88f2c387",
   "metadata": {},
   "outputs": [],
   "source": []
  }
 ],
 "metadata": {
  "kernelspec": {
   "display_name": "Python 3 (ipykernel)",
   "language": "python",
   "name": "python3"
  },
  "language_info": {
   "codemirror_mode": {
    "name": "ipython",
    "version": 3
   },
   "file_extension": ".py",
   "mimetype": "text/x-python",
   "name": "python",
   "nbconvert_exporter": "python",
   "pygments_lexer": "ipython3",
   "version": "3.9.7"
  }
 },
 "nbformat": 4,
 "nbformat_minor": 5
}
