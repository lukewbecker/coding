{
 "cells": [
  {
   "cell_type": "markdown",
   "id": "8c3e49d3-c2e7-4c7e-af5a-f2ff1066e627",
   "metadata": {
    "pycharm": {
     "name": "#%% md\n"
    }
   },
   "source": [
    "## Getting First Trust and Innovator Buffer ETF Data"
   ]
  },
  {
   "cell_type": "code",
   "execution_count": 1,
   "id": "f376e2b0-4f14-4093-ab0e-a375d1ee7ba4",
   "metadata": {
    "pycharm": {
     "name": "#%%\n"
    }
   },
   "outputs": [],
   "source": [
    "import requests #requesting URLs\n",
    "import urllib.request #requesting URLs\n",
    "import time #setting the speed at which the requests run\n",
    "import re #regexp string manipulation\n",
    "import pandas as pd #for simplifying data operations (e.g. creating dataframe objects)\n",
    "import matplotlib.pyplot as plt #for plotting the scraped data\n",
    "from bs4 import BeautifulSoup #for web-scraping operations"
   ]
  },
  {
   "cell_type": "code",
   "execution_count": null,
   "id": "48d4cdef-a993-4dac-afa8-583c88f2c387",
   "metadata": {
    "pycharm": {
     "name": "#%%\n"
    }
   },
   "outputs": [],
   "source": [
    "# javascript:__doPostBack('ctl00$ContentPlaceHolder1$targetoutcomeretail$lnkDownloadToExcel','')"
   ]
  },
  {
   "cell_type": "code",
   "execution_count": null,
   "id": "222b3d6b-fc10-4fb4-984f-7f8bba009fc0",
   "metadata": {
    "pycharm": {
     "name": "#%%\n"
    }
   },
   "outputs": [],
   "source": []
  },
  {
   "cell_type": "code",
   "execution_count": 2,
   "id": "c974b12f-a2eb-4a60-a1ec-7cf2ba651597",
   "metadata": {
    "pycharm": {
     "name": "#%%\n"
    }
   },
   "outputs": [],
   "source": [
    "url = \"https://fred.stlouisfed.org/graph/fredgraph.xls?id=CHXRSA\"\n",
    "r = requests.get(url)\n",
    "\n",
    "open('temp.xls', 'wb').write(r.content)\n",
    "df = pd.read_excel('temp.xls')"
   ]
  },
  {
   "cell_type": "code",
   "execution_count": 3,
   "id": "1fdd1b71-44be-4859-8259-4ea61ac0ce56",
   "metadata": {
    "pycharm": {
     "name": "#%%\n"
    }
   },
   "outputs": [
    {
     "data": {
      "text/plain": "                 FRED Graph Observations Unnamed: 1\n0          Federal Reserve Economic Data        NaN\n1      Link: https://fred.stlouisfed.org        NaN\n2  Help: https://fredhelp.stlouisfed.org        NaN\n3             Economic Research Division        NaN\n4      Federal Reserve Bank of St. Louis        NaN",
      "text/html": "<div>\n<style scoped>\n    .dataframe tbody tr th:only-of-type {\n        vertical-align: middle;\n    }\n\n    .dataframe tbody tr th {\n        vertical-align: top;\n    }\n\n    .dataframe thead th {\n        text-align: right;\n    }\n</style>\n<table border=\"1\" class=\"dataframe\">\n  <thead>\n    <tr style=\"text-align: right;\">\n      <th></th>\n      <th>FRED Graph Observations</th>\n      <th>Unnamed: 1</th>\n    </tr>\n  </thead>\n  <tbody>\n    <tr>\n      <th>0</th>\n      <td>Federal Reserve Economic Data</td>\n      <td>NaN</td>\n    </tr>\n    <tr>\n      <th>1</th>\n      <td>Link: https://fred.stlouisfed.org</td>\n      <td>NaN</td>\n    </tr>\n    <tr>\n      <th>2</th>\n      <td>Help: https://fredhelp.stlouisfed.org</td>\n      <td>NaN</td>\n    </tr>\n    <tr>\n      <th>3</th>\n      <td>Economic Research Division</td>\n      <td>NaN</td>\n    </tr>\n    <tr>\n      <th>4</th>\n      <td>Federal Reserve Bank of St. Louis</td>\n      <td>NaN</td>\n    </tr>\n  </tbody>\n</table>\n</div>"
     },
     "execution_count": 3,
     "metadata": {},
     "output_type": "execute_result"
    }
   ],
   "source": [
    "df.head()"
   ]
  },
  {
   "cell_type": "code",
   "execution_count": null,
   "id": "e404fc21-13b1-4d6a-9118-46ae48f85c82",
   "metadata": {
    "pycharm": {
     "name": "#%%\n"
    }
   },
   "outputs": [],
   "source": [
    "# <a id=\"ContentPlaceHolder1_targetoutcomeretail_lnkDownloadToExcel\" href=\"javascript:__doPostBack('ctl00$ContentPlaceHolder1$targetoutcomeretail$lnkDownloadToExcel','')\">Download to Excel</a>"
   ]
  },
  {
   "cell_type": "code",
   "execution_count": null,
   "id": "f8828d63-b6ff-450b-b652-2d53c4f9db4e",
   "metadata": {
    "pycharm": {
     "name": "#%%\n"
    }
   },
   "outputs": [],
   "source": []
  }
 ],
 "metadata": {
  "kernelspec": {
   "display_name": "Python 3 (ipykernel)",
   "language": "python",
   "name": "python3"
  },
  "language_info": {
   "codemirror_mode": {
    "name": "ipython",
    "version": 3
   },
   "file_extension": ".py",
   "mimetype": "text/x-python",
   "name": "python",
   "nbconvert_exporter": "python",
   "pygments_lexer": "ipython3",
   "version": "3.9.12"
  }
 },
 "nbformat": 4,
 "nbformat_minor": 5
}