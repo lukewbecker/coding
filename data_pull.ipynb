{
 "cells": [
  {
   "cell_type": "markdown",
   "id": "7d170533-7e9d-443e-ba19-c32dd5ed46eb",
   "metadata": {},
   "source": [
    "## Limitless and Dainsleif Data Pulls"
   ]
  },
  {
   "cell_type": "code",
   "execution_count": 1,
   "id": "b627d7d0-c4eb-45cf-83f4-7638cecc4267",
   "metadata": {},
   "outputs": [],
   "source": [
    "import pandas as pd\n",
    "import numpy as np\n",
    "import time\n",
    "from datetime import datetime\n",
    "import requests\n",
    "import json"
   ]
  },
  {
   "cell_type": "code",
   "execution_count": 5,
   "id": "3d6526c3-2950-4f41-921b-db48bdd821e6",
   "metadata": {},
   "outputs": [],
   "source": [
    "import data_env\n",
    "mercury_key = data_env.mercury_api"
   ]
  },
  {
   "cell_type": "code",
   "execution_count": 7,
   "id": "337f80a7-bd11-4425-a836-cf51a14f203b",
   "metadata": {},
   "outputs": [
    {
     "name": "stdout",
     "output_type": "stream",
     "text": [
      "{\"accounts\":[{\"id\":\"94f986bc-6e95-11ec-9481-23a193adf11c\",\"accountNumber\":\"9801358642\",\"routingNumber\":\"084106768\",\"name\":\"Mercury Checking ••8642\",\"status\":\"active\",\"type\":\"mercury\",\"createdAt\":\"2022-01-06T02:08:47.019602Z\",\"availableBalance\":1027.25,\"currentBalance\":1027.25,\"kind\":\"checking\",\"canReceiveTransactions\":true,\"nickname\":null,\"legalBusinessName\":\"Dainsleif LLC\"},{\"id\":\"9b295094-6e95-11ec-8fe2-cb3b6f5a67e5\",\"accountNumber\":\"9880867469\",\"routingNumber\":\"084106768\",\"name\":\"Mercury Savings ••7469\",\"status\":\"active\",\"type\":\"mercury\",\"createdAt\":\"2022-01-06T02:08:57.39912Z\",\"availableBalance\":0.0,\"currentBalance\":0.0,\"kind\":\"savings\",\"canReceiveTransactions\":true,\"nickname\":null,\"legalBusinessName\":\"Dainsleif LLC\"}]}\n"
     ]
    }
   ],
   "source": [
    "# import requests\n",
    "\n",
    "url = \"https://backend.mercury.com/api/v1/accounts\"\n",
    "\n",
    "headers = {\n",
    "    \"Accept\": \"application/json\",\n",
    "    \"Content-Type\": \"application/json\",\n",
    "    \"Authorization\": \"Bearer \" + mercury_key\n",
    "}\n",
    "\n",
    "response = requests.request(\"GET\", url, headers=headers)\n",
    "\n",
    "print(response.text)"
   ]
  },
  {
   "cell_type": "code",
   "execution_count": 8,
   "id": "54dcbdb6-de38-4938-8a61-63dec8544bd1",
   "metadata": {},
   "outputs": [
    {
     "data": {
      "text/plain": [
       "b'{\"accounts\":[{\"id\":\"94f986bc-6e95-11ec-9481-23a193adf11c\",\"accountNumber\":\"9801358642\",\"routingNumber\":\"084106768\",\"name\":\"Mercury Checking \\xe2\\x80\\xa2\\xe2\\x80\\xa28642\",\"status\":\"active\",\"type\":\"mercury\",\"createdAt\":\"2022-01-06T02:08:47.019602Z\",\"availableBalance\":1027.25,\"currentBalance\":1027.25,\"kind\":\"checking\",\"canReceiveTransactions\":true,\"nickname\":null,\"legalBusinessName\":\"Dainsleif LLC\"},{\"id\":\"9b295094-6e95-11ec-8fe2-cb3b6f5a67e5\",\"accountNumber\":\"9880867469\",\"routingNumber\":\"084106768\",\"name\":\"Mercury Savings \\xe2\\x80\\xa2\\xe2\\x80\\xa27469\",\"status\":\"active\",\"type\":\"mercury\",\"createdAt\":\"2022-01-06T02:08:57.39912Z\",\"availableBalance\":0.0,\"currentBalance\":0.0,\"kind\":\"savings\",\"canReceiveTransactions\":true,\"nickname\":null,\"legalBusinessName\":\"Dainsleif LLC\"}]}'"
      ]
     },
     "execution_count": 8,
     "metadata": {},
     "output_type": "execute_result"
    }
   ],
   "source": [
    "response.content"
   ]
  },
  {
   "cell_type": "code",
   "execution_count": null,
   "id": "bc350f8e-f915-4425-bb3f-b2520855233e",
   "metadata": {},
   "outputs": [],
   "source": [
    " "
   ]
  }
 ],
 "metadata": {
  "kernelspec": {
   "display_name": "Python 3 (ipykernel)",
   "language": "python",
   "name": "python3"
  },
  "language_info": {
   "codemirror_mode": {
    "name": "ipython",
    "version": 3
   },
   "file_extension": ".py",
   "mimetype": "text/x-python",
   "name": "python",
   "nbconvert_exporter": "python",
   "pygments_lexer": "ipython3",
   "version": "3.9.13"
  }
 },
 "nbformat": 4,
 "nbformat_minor": 5
}
