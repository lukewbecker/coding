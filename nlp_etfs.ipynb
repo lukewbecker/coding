{
 "cells": [
  {
   "cell_type": "code",
   "execution_count": 1,
   "id": "29805137-2978-40b4-8606-df4c7ee87a86",
   "metadata": {},
   "outputs": [],
   "source": [
    "import requests\n",
    "import pandas\n",
    "import numpy\n",
    "\n",
    "from bs4 import BeautifulSoup"
   ]
  },
  {
   "cell_type": "code",
   "execution_count": null,
   "id": "4f850ad3-8ab3-4580-833d-51c5144e8e4e",
   "metadata": {},
   "outputs": [],
   "source": [
    "inn_url = \"https://www.innovatoretfs.com/define/etfs/\"\n",
    "ft_url = \"https://www.ftportfolios.com/Retail/etf/targetoutcomefundlist.aspx\"\n",
    "\n",
    "page_test = requests.get(ft_url)\n",
    "# /html/body/form/table/tbody/tr/td/table[3]/tbody/tr/td/table/tbody/tr/td/div[1]/div/table/tbody/tr/td/div[1]/div/table/tbody/tr/td/table[2]"
   ]
  },
  {
   "cell_type": "code",
   "execution_count": null,
   "id": "17a78864-e8c2-4a58-86b4-e0dc24ddec4c",
   "metadata": {
    "tags": []
   },
   "outputs": [],
   "source": [
    "print(page_test.text)"
   ]
  },
  {
   "cell_type": "code",
   "execution_count": null,
   "id": "f51635a1-575b-4b80-95e8-caf954bdf46b",
   "metadata": {},
   "outputs": [],
   "source": [
    "soup = BeautifulSoup(page_test.content, \"html.parser\")"
   ]
  },
  {
   "cell_type": "code",
   "execution_count": null,
   "id": "23460970-7811-41f3-ab05-25a70844eb41",
   "metadata": {},
   "outputs": [],
   "source": [
    "ft_table = soup.find(id=\"Table1\")"
   ]
  },
  {
   "cell_type": "code",
   "execution_count": null,
   "id": "0232891f-e6e9-42d8-a72e-df7cbdaa6d7f",
   "metadata": {
    "tags": []
   },
   "outputs": [],
   "source": [
    "print(ft_table.prettify())"
   ]
  },
  {
   "cell_type": "markdown",
   "id": "8e40841b-c52c-48b1-ad19-72b41e9ec5ee",
   "metadata": {},
   "source": [
    "#### Trying to use Selenium"
   ]
  },
  {
   "cell_type": "code",
   "execution_count": null,
   "id": "665e1d4f-2f96-4b39-b268-d8d4e30ed420",
   "metadata": {},
   "outputs": [],
   "source": [
    "driver = web"
   ]
  }
 ],
 "metadata": {
  "kernelspec": {
   "display_name": "Python 3 (ipykernel)",
   "language": "python",
   "name": "python3"
  },
  "language_info": {
   "codemirror_mode": {
    "name": "ipython",
    "version": 3
   },
   "file_extension": ".py",
   "mimetype": "text/x-python",
   "name": "python",
   "nbconvert_exporter": "python",
   "pygments_lexer": "ipython3",
   "version": "3.9.12"
  }
 },
 "nbformat": 4,
 "nbformat_minor": 5
}
